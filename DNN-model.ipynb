{
 "cells": [
  {
   "cell_type": "markdown",
   "source": [
    "## Importing reauired libraries"
   ],
   "metadata": {}
  },
  {
   "cell_type": "code",
   "execution_count": 1,
   "source": [
    "import numpy as np\n",
    "import pandas as pd\n",
    "import tensorflow as tf\n",
    "import matplotlib.pyplot as plt\n",
    "from sklearn.model_selection import train_test_split"
   ],
   "outputs": [
    {
     "output_type": "stream",
     "name": "stderr",
     "text": [
      "2021-08-27 17:35:14.619659: I tensorflow/stream_executor/platform/default/dso_loader.cc:48] Successfully opened dynamic library libcudart.so.10.1\n"
     ]
    }
   ],
   "metadata": {}
  },
  {
   "cell_type": "markdown",
   "source": [
    "## Reading data"
   ],
   "metadata": {}
  },
  {
   "cell_type": "code",
   "execution_count": null,
   "source": [
    "data = pd.read_csv(\"TCS.NS.csv\").dropna()\n",
    "data = data.reset_index()\n",
    "series = data['Close']"
   ],
   "outputs": [],
   "metadata": {}
  },
  {
   "cell_type": "markdown",
   "source": [
    "## Normalizing data"
   ],
   "metadata": {}
  },
  {
   "cell_type": "code",
   "execution_count": null,
   "source": [
    "max_close_value = max(series)\n",
    "\n",
    "series = series / max_close_value"
   ],
   "outputs": [],
   "metadata": {}
  },
  {
   "cell_type": "markdown",
   "source": [
    "## Plotting data"
   ],
   "metadata": {}
  },
  {
   "cell_type": "code",
   "execution_count": null,
   "source": [
    "plt.figure(figsize=(25, 6))\n",
    "plt.plot([i for i in range(len(series))], series)\n",
    "plt.show()"
   ],
   "outputs": [],
   "metadata": {}
  },
  {
   "cell_type": "markdown",
   "source": [
    "## Setting window size"
   ],
   "metadata": {}
  },
  {
   "cell_type": "code",
   "execution_count": null,
   "source": [
    "window_size = 101"
   ],
   "outputs": [],
   "metadata": {}
  },
  {
   "cell_type": "markdown",
   "source": [
    "## Creating windowed data\r\n",
    "\r\n",
    "previous data of range (window size - 1) will be input value and last value will be output value "
   ],
   "metadata": {}
  },
  {
   "cell_type": "code",
   "execution_count": null,
   "source": [
    "def windowed_dataset(series, window_size):\n",
    "    X = []\n",
    "    y = []\n",
    "\n",
    "    for i in range(len(series) + 1 - window_size):\n",
    "        X.append(series[i: i + window_size - 1])\n",
    "        y.append(series[i + window_size - 1])\n",
    "\n",
    "    return X, y"
   ],
   "outputs": [],
   "metadata": {}
  },
  {
   "cell_type": "code",
   "execution_count": null,
   "source": [
    "X, y = windowed_dataset(series, window_size)\n",
    "\n",
    "X = np.array(X)\n",
    "y = np.array(y)"
   ],
   "outputs": [],
   "metadata": {}
  },
  {
   "cell_type": "markdown",
   "source": [
    "## Splitting data into training and testing"
   ],
   "metadata": {}
  },
  {
   "cell_type": "code",
   "execution_count": null,
   "source": [
    "train_X, test_X, train_y, test_y = train_test_split(X, y, test_size=0.2)\n"
   ],
   "outputs": [],
   "metadata": {}
  },
  {
   "cell_type": "markdown",
   "source": [
    "## Creating Dense Neural Network"
   ],
   "metadata": {}
  },
  {
   "cell_type": "code",
   "execution_count": null,
   "source": [
    "model = tf.keras.models.Sequential([\r\n",
    "    tf.keras.layers.Dense(30, activation=\"relu\"),\r\n",
    "    tf.keras.layers.Dense(15, activation=\"relu\"),\r\n",
    "    tf.keras.layers.Dense(30, activation=\"relu\"),\r\n",
    "    tf.keras.layers.Dense(15, activation=\"relu\"),\r\n",
    "    tf.keras.layers.Dense(1)\r\n",
    "])\r\n",
    "\r\n",
    "model.compile(loss=\"mae\", optimizer=\"adam\", metrics=['MAE'])\r\n",
    "history = model.fit(train_X, train_y, epochs=1000,\r\n",
    "                    validation_data=(test_X, test_y))"
   ],
   "outputs": [],
   "metadata": {}
  },
  {
   "cell_type": "markdown",
   "source": [
    "## Prediction on test data"
   ],
   "metadata": {}
  },
  {
   "cell_type": "code",
   "execution_count": null,
   "source": [
    "prediction = model.predict(test_X)\r\n",
    "prediction = prediction.flatten()"
   ],
   "outputs": [],
   "metadata": {}
  },
  {
   "cell_type": "markdown",
   "source": [
    "## Calculating Mean Absolute Error"
   ],
   "metadata": {}
  },
  {
   "cell_type": "code",
   "execution_count": null,
   "source": [
    "mae = 0\r\n",
    "for i in range(len(test_X)):\r\n",
    "    mae += abs(test_y[i] - prediction[i])\r\n",
    "mae = mae / len(test_X)\r\n",
    "print(f'Mean Absolute Error = {mae}')"
   ],
   "outputs": [],
   "metadata": {}
  },
  {
   "cell_type": "code",
   "execution_count": null,
   "source": [
    "plt.figure(figsize=(25, 6))\r\n",
    "plt.title(\"Prediction on test data\")\r\n",
    "plt.plot([i for i in range(len(test_X))], test_y, color='g', label='Actual')\r\n",
    "plt.scatter([i for i in range(len(test_X))],\r\n",
    "            prediction, color='b', label='Predicted')\r\n",
    "plt.legend()\r\n",
    "plt.show()"
   ],
   "outputs": [],
   "metadata": {}
  },
  {
   "cell_type": "markdown",
   "source": [
    "## Prediction on future time"
   ],
   "metadata": {}
  },
  {
   "cell_type": "code",
   "execution_count": null,
   "source": [
    "future_time = 1\r\n",
    "future_prediction = []\r\n",
    "temp = X[-1]\r\n",
    "\r\n",
    "for i in range(future_time):\r\n",
    "    p = model.predict(np.array([temp]))[0][0]\r\n",
    "    future_prediction.append(p)\r\n",
    "    temp = np.concatenate(\r\n",
    "        (np.array(temp[1:]).flatten(), np.array([p])), axis=0)"
   ],
   "outputs": [],
   "metadata": {}
  },
  {
   "cell_type": "code",
   "execution_count": null,
   "source": [
    "for i in range(future_time):\r\n",
    "    if future_prediction[i] > max_close_value:\r\n",
    "        max_close_value = future_prediction[i]\r\n",
    "    print(future_prediction[i] * max_close_value)"
   ],
   "outputs": [],
   "metadata": {}
  }
 ],
 "metadata": {
  "orig_nbformat": 4,
  "language_info": {
   "name": "python",
   "version": "3.8.10",
   "mimetype": "text/x-python",
   "codemirror_mode": {
    "name": "ipython",
    "version": 3
   },
   "pygments_lexer": "ipython3",
   "nbconvert_exporter": "python",
   "file_extension": ".py"
  },
  "kernelspec": {
   "name": "python3",
   "display_name": "Python 3.8.10 64-bit"
  },
  "interpreter": {
   "hash": "916dbcbb3f70747c44a77c7bcd40155683ae19c65e1c03b4aa3499c5328201f1"
  }
 },
 "nbformat": 4,
 "nbformat_minor": 2
}